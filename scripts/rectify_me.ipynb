{
 "cells": [
  {
   "cell_type": "code",
   "execution_count": 48,
   "metadata": {},
   "outputs": [],
   "source": [
    "import numpy as np\n",
    "import matplotlib.pyplot as plt\n",
    "import rospkg\n",
    "import csv\n",
    "from glob import glob"
   ]
  },
  {
   "cell_type": "code",
   "execution_count": 49,
   "metadata": {},
   "outputs": [],
   "source": [
    "rospack = rospkg.RosPack()\n",
    "package_path = rospack.get_path('calculate_moi')\n",
    "csv_path = package_path + '/3d_models/csv_models'\n",
    "txt_path = package_path + '/3d_models/txt_models'\n",
    "# file_path = package_path + '/3d_models/csv_models/body.csv'\n",
    "# file_name = file_path[59:]\n",
    "# print(file_name)\n",
    "# new_file_path = package_path + '/3d_models/txt_models/' + file_name"
   ]
  },
  {
   "cell_type": "code",
   "execution_count": 50,
   "metadata": {},
   "outputs": [],
   "source": [
    "def get_raw_data(file_path):\n",
    "    with open(file_path, newline='') as f:\n",
    "        reader = csv.reader(f)\n",
    "        data = list(reader)\n",
    "    return data\n",
    "\n",
    "# print(data)"
   ]
  },
  {
   "cell_type": "code",
   "execution_count": 53,
   "metadata": {},
   "outputs": [],
   "source": [
    "def rectify(new_file_path, data):\n",
    "    with open(new_file_path, 'w', encoding='UTF8') as f:\n",
    "        writer = csv.writer(f)\n",
    "        for idx, val in enumerate(data):\n",
    "            # data[idx] = val[:3]\n",
    "            writer.writerow(val[:3])\n"
   ]
  },
  {
   "cell_type": "code",
   "execution_count": 54,
   "metadata": {},
   "outputs": [],
   "source": [
    "def main():\n",
    "    path_list = glob(csv_path + '/*')\n",
    "    for i in path_list:\n",
    "        data = get_raw_data(i)\n",
    "        full_name = txt_path + '/' + i[59:]\n",
    "        rectify(full_name, data)\n",
    "\n",
    "\n",
    "main()"
   ]
  },
  {
   "cell_type": "code",
   "execution_count": 16,
   "metadata": {},
   "outputs": [
    {
     "name": "stdout",
     "output_type": "stream",
     "text": [
      "[['25', ' 63', ' 0'], ['26', ' 63', ' 0'], ['24', ' 61', ' 1'], ['25', ' 61', ' 1'], ['24', ' 62', ' 1']]\n"
     ]
    }
   ],
   "source": []
  },
  {
   "cell_type": "code",
   "execution_count": null,
   "metadata": {},
   "outputs": [],
   "source": []
  }
 ],
 "metadata": {
  "interpreter": {
   "hash": "31f2aee4e71d21fbe5cf8b01ff0e069b9275f58929596ceb00d14d90e3e16cd6"
  },
  "kernelspec": {
   "display_name": "Python 3.8.10 64-bit",
   "language": "python",
   "name": "python3"
  },
  "language_info": {
   "codemirror_mode": {
    "name": "ipython",
    "version": 3
   },
   "file_extension": ".py",
   "mimetype": "text/x-python",
   "name": "python",
   "nbconvert_exporter": "python",
   "pygments_lexer": "ipython3",
   "version": "3.8.10"
  },
  "orig_nbformat": 4
 },
 "nbformat": 4,
 "nbformat_minor": 2
}
